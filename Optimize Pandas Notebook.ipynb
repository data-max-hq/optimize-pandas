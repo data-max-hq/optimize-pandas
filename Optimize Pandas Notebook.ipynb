{
  "cells": [
    {
      "cell_type": "code",
      "execution_count": 104,
      "metadata": {
        "colab": {
          "base_uri": "https://localhost:8080/"
        },
        "id": "HBh-EuY0gKi9",
        "outputId": "846c535b-9bea-4344-fa3d-82bc01a91e77"
      },
      "outputs": [
        {
          "output_type": "stream",
          "name": "stdout",
          "text": [
            "Looking in indexes: https://pypi.org/simple, https://us-python.pkg.dev/colab-wheels/public/simple/\n",
            "Requirement already satisfied: ipython-autotime in /usr/local/lib/python3.8/dist-packages (0.3.1)\n",
            "Requirement already satisfied: ipython in /usr/local/lib/python3.8/dist-packages (from ipython-autotime) (7.9.0)\n",
            "Requirement already satisfied: jedi>=0.10 in /usr/local/lib/python3.8/dist-packages (from ipython->ipython-autotime) (0.18.2)\n",
            "Requirement already satisfied: prompt-toolkit<2.1.0,>=2.0.0 in /usr/local/lib/python3.8/dist-packages (from ipython->ipython-autotime) (2.0.10)\n",
            "Requirement already satisfied: decorator in /usr/local/lib/python3.8/dist-packages (from ipython->ipython-autotime) (4.4.2)\n",
            "Requirement already satisfied: pygments in /usr/local/lib/python3.8/dist-packages (from ipython->ipython-autotime) (2.6.1)\n",
            "Requirement already satisfied: traitlets>=4.2 in /usr/local/lib/python3.8/dist-packages (from ipython->ipython-autotime) (5.7.1)\n",
            "Requirement already satisfied: setuptools>=18.5 in /usr/local/lib/python3.8/dist-packages (from ipython->ipython-autotime) (57.4.0)\n",
            "Requirement already satisfied: pickleshare in /usr/local/lib/python3.8/dist-packages (from ipython->ipython-autotime) (0.7.5)\n",
            "Requirement already satisfied: backcall in /usr/local/lib/python3.8/dist-packages (from ipython->ipython-autotime) (0.2.0)\n",
            "Requirement already satisfied: pexpect in /usr/local/lib/python3.8/dist-packages (from ipython->ipython-autotime) (4.8.0)\n",
            "Requirement already satisfied: parso<0.9.0,>=0.8.0 in /usr/local/lib/python3.8/dist-packages (from jedi>=0.10->ipython->ipython-autotime) (0.8.3)\n",
            "Requirement already satisfied: wcwidth in /usr/local/lib/python3.8/dist-packages (from prompt-toolkit<2.1.0,>=2.0.0->ipython->ipython-autotime) (0.2.6)\n",
            "Requirement already satisfied: six>=1.9.0 in /usr/local/lib/python3.8/dist-packages (from prompt-toolkit<2.1.0,>=2.0.0->ipython->ipython-autotime) (1.15.0)\n",
            "Requirement already satisfied: ptyprocess>=0.5 in /usr/local/lib/python3.8/dist-packages (from pexpect->ipython->ipython-autotime) (0.7.0)\n",
            "The autotime extension is already loaded. To reload it, use:\n",
            "  %reload_ext autotime\n",
            "time: 3.55 s (started: 2023-02-24 13:34:59 +00:00)\n"
          ]
        }
      ],
      "source": [
        "!pip install ipython-autotime\n",
        "%load_ext autotime"
      ]
    },
    {
      "cell_type": "code",
      "execution_count": 105,
      "metadata": {
        "colab": {
          "base_uri": "https://localhost:8080/"
        },
        "id": "Bp40d-4t3Z6e",
        "outputId": "4c5d746a-ea3a-4aba-e13f-b0757b851a9a"
      },
      "outputs": [
        {
          "output_type": "stream",
          "name": "stdout",
          "text": [
            "Looking in indexes: https://pypi.org/simple, https://us-python.pkg.dev/colab-wheels/public/simple/\n",
            "Requirement already satisfied: Faker in /usr/local/lib/python3.8/dist-packages (17.0.0)\n",
            "Requirement already satisfied: python-dateutil>=2.4 in /usr/local/lib/python3.8/dist-packages (from Faker) (2.8.2)\n",
            "Requirement already satisfied: six>=1.5 in /usr/local/lib/python3.8/dist-packages (from python-dateutil>=2.4->Faker) (1.15.0)\n",
            "time: 3.85 s (started: 2023-02-24 13:35:32 +00:00)\n"
          ]
        }
      ],
      "source": [
        "!pip install Faker"
      ]
    },
    {
      "cell_type": "code",
      "execution_count": 106,
      "metadata": {
        "colab": {
          "base_uri": "https://localhost:8080/"
        },
        "id": "rLT_8Qpuacqt",
        "outputId": "9d82edd0-0979-424b-9e01-af60674dcd5a"
      },
      "outputs": [
        {
          "output_type": "stream",
          "name": "stdout",
          "text": [
            "time: 731 µs (started: 2023-02-24 13:35:36 +00:00)\n"
          ]
        }
      ],
      "source": [
        "import pandas as pd\n",
        "import numpy as np\n",
        "import random"
      ]
    },
    {
      "cell_type": "markdown",
      "metadata": {
        "id": "kIKQd2bc4NTL"
      },
      "source": [
        "# How to Benchmark\n",
        "#### Give a man a fish and you feed him for a day, teach a man to fish and you feed him for a lifetime"
      ]
    },
    {
      "cell_type": "markdown",
      "metadata": {
        "id": "ZkvRYanG4TLV"
      },
      "source": [
        "## timeit ⏰"
      ]
    },
    {
      "cell_type": "code",
      "execution_count": 107,
      "metadata": {
        "colab": {
          "base_uri": "https://localhost:8080/"
        },
        "id": "YSyUWGND4Lk8",
        "outputId": "f6190f25-3fe9-4bb7-a5c4-de6ba4985ede"
      },
      "outputs": [
        {
          "output_type": "stream",
          "name": "stdout",
          "text": [
            "time: 1.11 ms (started: 2023-02-24 13:37:29 +00:00)\n"
          ]
        }
      ],
      "source": [
        "def count_multiples(n):\n",
        "  count = 0\n",
        "  for i in range(n):\n",
        "    if i % 10 == 0:\n",
        "      count = count + 1\n",
        "  return count"
      ]
    },
    {
      "cell_type": "code",
      "execution_count": 108,
      "metadata": {
        "colab": {
          "base_uri": "https://localhost:8080/"
        },
        "id": "pybKWmB65eGG",
        "outputId": "e076101f-c8c7-4c74-b731-a77da5e6372c"
      },
      "outputs": [
        {
          "output_type": "stream",
          "name": "stdout",
          "text": [
            "7.85 µs ± 221 ns per loop (mean ± std. dev. of 7 runs, 100000 loops each)\n",
            "time: 6.66 s (started: 2023-02-24 13:37:35 +00:00)\n"
          ]
        }
      ],
      "source": [
        "%%timeit\n",
        "count_multiples(100)"
      ]
    },
    {
      "cell_type": "markdown",
      "metadata": {
        "id": "BvN9PpyE4YlH"
      },
      "source": [
        "## Line Profiling 🧙"
      ]
    },
    {
      "cell_type": "code",
      "execution_count": 109,
      "metadata": {
        "colab": {
          "base_uri": "https://localhost:8080/"
        },
        "id": "D9AO_VHg4XvM",
        "outputId": "439bdbfa-2e13-472d-e9d4-1db18ae7b2cb"
      },
      "outputs": [
        {
          "output_type": "stream",
          "name": "stdout",
          "text": [
            "Looking in indexes: https://pypi.org/simple, https://us-python.pkg.dev/colab-wheels/public/simple/\n",
            "Requirement already satisfied: line_profiler in /usr/local/lib/python3.8/dist-packages (4.0.2)\n",
            "The line_profiler extension is already loaded. To reload it, use:\n",
            "  %reload_ext line_profiler\n",
            "time: 3.55 s (started: 2023-02-24 13:38:16 +00:00)\n"
          ]
        }
      ],
      "source": [
        "#https://colab.research.google.com/github/jakevdp/PythonDataScienceHandbook/blob/master/notebooks/01.07-Timing-and-Profiling.ipynb\n",
        "!pip install line_profiler\n",
        "%load_ext line_profiler"
      ]
    },
    {
      "cell_type": "code",
      "execution_count": 110,
      "metadata": {
        "colab": {
          "base_uri": "https://localhost:8080/"
        },
        "id": "_KTG-02l6Qat",
        "outputId": "61ef04d3-4e7f-47b0-8e04-ca45c3927933"
      },
      "outputs": [
        {
          "output_type": "stream",
          "name": "stdout",
          "text": [
            "time: 3.57 ms (started: 2023-02-24 13:38:54 +00:00)\n"
          ]
        }
      ],
      "source": [
        "%lprun -f count_multiples count_multiples(100)"
      ]
    },
    {
      "cell_type": "markdown",
      "metadata": {
        "id": "dzBKrkNAapqc"
      },
      "source": [
        "# Section 1 - Filtering"
      ]
    },
    {
      "cell_type": "code",
      "execution_count": 62,
      "metadata": {
        "colab": {
          "base_uri": "https://localhost:8080/"
        },
        "id": "8jtxEV3sQ1EV",
        "outputId": "1c99d23f-40fc-4df7-9f2b-5179f1de48c0"
      },
      "outputs": [
        {
          "output_type": "stream",
          "name": "stdout",
          "text": [
            "time: 424 µs (started: 2023-02-24 13:03:04 +00:00)\n"
          ]
        }
      ],
      "source": [
        "# https://towardsdatascience.com/five-killer-optimization-techniques-every-pandas-user-should-know-266662bd1163\n",
        "# def create_employees(n=4_096_000):\n",
        "#     city_list = [\n",
        "#         \"New York\", \"Manchester\", \"California\", \"Munich\", \"Bombay\",\n",
        "#         \"Sydeny\", \"London\", \"Moscow\", \"Dubai\", \"Tokyo\"\n",
        "#     ]\n",
        "\n",
        "#     job_list = [\n",
        "#         \"Software Development Engineer\", \"Research Engineer\", \n",
        "#         \"Test Engineer\", \"Software Development Engineer-II\", \n",
        "#         \"Python Developer\", \"Back End Developer\", \n",
        "#         \"Front End Developer\", \"Data Scientist\", \n",
        "#         \"IOS Developer\", \"Android Developer\"\n",
        "#     ]\n",
        "\n",
        "#     cmp_list = [\n",
        "#         \"Amazon\", \"Google\", \"Infosys\", \"Mastercard\", \"Microsoft\", \n",
        "#         \"Uber\", \"IBM\", \"Apple\", \"Wipro\", \"Cognizant\"\n",
        "#     ]\n",
        "\n",
        "#     data = []\n",
        "#     for i in range(n):    \n",
        "#         company = random.choice(cmp_list)\n",
        "#         job = random.choice(job_list)\n",
        "#         city = random.choice(city_list)\n",
        "#         salary = int(round(np.random.rand(), 3)*10**6)\n",
        "#         employment = random.choices([\"Full Time\", \"Intern\"], weights=(80, 20))[0]\n",
        "#         rating = round((np.random.rand()*5), 1)\n",
        "        \n",
        "#         data.append([i, company, job, city, salary, employment, rating])\n",
        "        \n",
        "#     data = pd.DataFrame(data, columns=[\n",
        "#         \"Id\", \"Company Name\", \"Employee Job Title\",\n",
        "#         \"Employee Work Location\", \"Employee Salary\", \n",
        "#         \"Employment Status\", \"Employee Rating\"\n",
        "#         ]\n",
        "#     )\n",
        "#     return data\n",
        "# employees = create_employees(n=800000)"
      ]
    },
    {
      "cell_type": "code",
      "execution_count": 111,
      "metadata": {
        "colab": {
          "base_uri": "https://localhost:8080/"
        },
        "id": "yleWnqgwSrvi",
        "outputId": "fc59909c-ad57-48f5-a87f-fe560907d6df"
      },
      "outputs": [
        {
          "output_type": "stream",
          "name": "stdout",
          "text": [
            "time: 563 ms (started: 2023-02-24 13:41:26 +00:00)\n"
          ]
        }
      ],
      "source": [
        "employees = pd.read_csv(\"employees.csv\")"
      ]
    },
    {
      "cell_type": "code",
      "execution_count": 112,
      "metadata": {
        "colab": {
          "base_uri": "https://localhost:8080/",
          "height": 224
        },
        "id": "Y_ojd34M2-pf",
        "outputId": "664ed727-3266-41d7-f003-c84a9be88e07"
      },
      "outputs": [
        {
          "output_type": "execute_result",
          "data": {
            "text/plain": [
              "            Id Company Name                Employee Job Title  \\\n",
              "268992  268992          IBM  Software Development Engineer-II   \n",
              "749259  749259       Amazon     Software Development Engineer   \n",
              "35260    35260    Cognizant                    Data Scientist   \n",
              "668573  668573   Mastercard                Back End Developer   \n",
              "306845  306845    Microsoft  Software Development Engineer-II   \n",
              "\n",
              "       Employee Work Location  Employee Salary Employment Status  \\\n",
              "268992             Manchester           649000         Full Time   \n",
              "749259                 London           728000         Full Time   \n",
              "35260                  Munich            32000            Intern   \n",
              "668573                 Sydeny           373000         Full Time   \n",
              "306845               New York           592000         Full Time   \n",
              "\n",
              "        Employee Rating  \n",
              "268992              3.3  \n",
              "749259              0.6  \n",
              "35260               2.4  \n",
              "668573              0.0  \n",
              "306845              1.9  "
            ],
            "text/html": [
              "\n",
              "  <div id=\"df-d6486687-61c2-455b-a39c-9afda72d1000\">\n",
              "    <div class=\"colab-df-container\">\n",
              "      <div>\n",
              "<style scoped>\n",
              "    .dataframe tbody tr th:only-of-type {\n",
              "        vertical-align: middle;\n",
              "    }\n",
              "\n",
              "    .dataframe tbody tr th {\n",
              "        vertical-align: top;\n",
              "    }\n",
              "\n",
              "    .dataframe thead th {\n",
              "        text-align: right;\n",
              "    }\n",
              "</style>\n",
              "<table border=\"1\" class=\"dataframe\">\n",
              "  <thead>\n",
              "    <tr style=\"text-align: right;\">\n",
              "      <th></th>\n",
              "      <th>Id</th>\n",
              "      <th>Company Name</th>\n",
              "      <th>Employee Job Title</th>\n",
              "      <th>Employee Work Location</th>\n",
              "      <th>Employee Salary</th>\n",
              "      <th>Employment Status</th>\n",
              "      <th>Employee Rating</th>\n",
              "    </tr>\n",
              "  </thead>\n",
              "  <tbody>\n",
              "    <tr>\n",
              "      <th>268992</th>\n",
              "      <td>268992</td>\n",
              "      <td>IBM</td>\n",
              "      <td>Software Development Engineer-II</td>\n",
              "      <td>Manchester</td>\n",
              "      <td>649000</td>\n",
              "      <td>Full Time</td>\n",
              "      <td>3.3</td>\n",
              "    </tr>\n",
              "    <tr>\n",
              "      <th>749259</th>\n",
              "      <td>749259</td>\n",
              "      <td>Amazon</td>\n",
              "      <td>Software Development Engineer</td>\n",
              "      <td>London</td>\n",
              "      <td>728000</td>\n",
              "      <td>Full Time</td>\n",
              "      <td>0.6</td>\n",
              "    </tr>\n",
              "    <tr>\n",
              "      <th>35260</th>\n",
              "      <td>35260</td>\n",
              "      <td>Cognizant</td>\n",
              "      <td>Data Scientist</td>\n",
              "      <td>Munich</td>\n",
              "      <td>32000</td>\n",
              "      <td>Intern</td>\n",
              "      <td>2.4</td>\n",
              "    </tr>\n",
              "    <tr>\n",
              "      <th>668573</th>\n",
              "      <td>668573</td>\n",
              "      <td>Mastercard</td>\n",
              "      <td>Back End Developer</td>\n",
              "      <td>Sydeny</td>\n",
              "      <td>373000</td>\n",
              "      <td>Full Time</td>\n",
              "      <td>0.0</td>\n",
              "    </tr>\n",
              "    <tr>\n",
              "      <th>306845</th>\n",
              "      <td>306845</td>\n",
              "      <td>Microsoft</td>\n",
              "      <td>Software Development Engineer-II</td>\n",
              "      <td>New York</td>\n",
              "      <td>592000</td>\n",
              "      <td>Full Time</td>\n",
              "      <td>1.9</td>\n",
              "    </tr>\n",
              "  </tbody>\n",
              "</table>\n",
              "</div>\n",
              "      <button class=\"colab-df-convert\" onclick=\"convertToInteractive('df-d6486687-61c2-455b-a39c-9afda72d1000')\"\n",
              "              title=\"Convert this dataframe to an interactive table.\"\n",
              "              style=\"display:none;\">\n",
              "        \n",
              "  <svg xmlns=\"http://www.w3.org/2000/svg\" height=\"24px\"viewBox=\"0 0 24 24\"\n",
              "       width=\"24px\">\n",
              "    <path d=\"M0 0h24v24H0V0z\" fill=\"none\"/>\n",
              "    <path d=\"M18.56 5.44l.94 2.06.94-2.06 2.06-.94-2.06-.94-.94-2.06-.94 2.06-2.06.94zm-11 1L8.5 8.5l.94-2.06 2.06-.94-2.06-.94L8.5 2.5l-.94 2.06-2.06.94zm10 10l.94 2.06.94-2.06 2.06-.94-2.06-.94-.94-2.06-.94 2.06-2.06.94z\"/><path d=\"M17.41 7.96l-1.37-1.37c-.4-.4-.92-.59-1.43-.59-.52 0-1.04.2-1.43.59L10.3 9.45l-7.72 7.72c-.78.78-.78 2.05 0 2.83L4 21.41c.39.39.9.59 1.41.59.51 0 1.02-.2 1.41-.59l7.78-7.78 2.81-2.81c.8-.78.8-2.07 0-2.86zM5.41 20L4 18.59l7.72-7.72 1.47 1.35L5.41 20z\"/>\n",
              "  </svg>\n",
              "      </button>\n",
              "      \n",
              "  <style>\n",
              "    .colab-df-container {\n",
              "      display:flex;\n",
              "      flex-wrap:wrap;\n",
              "      gap: 12px;\n",
              "    }\n",
              "\n",
              "    .colab-df-convert {\n",
              "      background-color: #E8F0FE;\n",
              "      border: none;\n",
              "      border-radius: 50%;\n",
              "      cursor: pointer;\n",
              "      display: none;\n",
              "      fill: #1967D2;\n",
              "      height: 32px;\n",
              "      padding: 0 0 0 0;\n",
              "      width: 32px;\n",
              "    }\n",
              "\n",
              "    .colab-df-convert:hover {\n",
              "      background-color: #E2EBFA;\n",
              "      box-shadow: 0px 1px 2px rgba(60, 64, 67, 0.3), 0px 1px 3px 1px rgba(60, 64, 67, 0.15);\n",
              "      fill: #174EA6;\n",
              "    }\n",
              "\n",
              "    [theme=dark] .colab-df-convert {\n",
              "      background-color: #3B4455;\n",
              "      fill: #D2E3FC;\n",
              "    }\n",
              "\n",
              "    [theme=dark] .colab-df-convert:hover {\n",
              "      background-color: #434B5C;\n",
              "      box-shadow: 0px 1px 3px 1px rgba(0, 0, 0, 0.15);\n",
              "      filter: drop-shadow(0px 1px 2px rgba(0, 0, 0, 0.3));\n",
              "      fill: #FFFFFF;\n",
              "    }\n",
              "  </style>\n",
              "\n",
              "      <script>\n",
              "        const buttonEl =\n",
              "          document.querySelector('#df-d6486687-61c2-455b-a39c-9afda72d1000 button.colab-df-convert');\n",
              "        buttonEl.style.display =\n",
              "          google.colab.kernel.accessAllowed ? 'block' : 'none';\n",
              "\n",
              "        async function convertToInteractive(key) {\n",
              "          const element = document.querySelector('#df-d6486687-61c2-455b-a39c-9afda72d1000');\n",
              "          const dataTable =\n",
              "            await google.colab.kernel.invokeFunction('convertToInteractive',\n",
              "                                                     [key], {});\n",
              "          if (!dataTable) return;\n",
              "\n",
              "          const docLinkHtml = 'Like what you see? Visit the ' +\n",
              "            '<a target=\"_blank\" href=https://colab.research.google.com/notebooks/data_table.ipynb>data table notebook</a>'\n",
              "            + ' to learn more about interactive tables.';\n",
              "          element.innerHTML = '';\n",
              "          dataTable['output_type'] = 'display_data';\n",
              "          await google.colab.output.renderOutput(dataTable, element);\n",
              "          const docLink = document.createElement('div');\n",
              "          docLink.innerHTML = docLinkHtml;\n",
              "          element.appendChild(docLink);\n",
              "        }\n",
              "      </script>\n",
              "    </div>\n",
              "  </div>\n",
              "  "
            ]
          },
          "metadata": {},
          "execution_count": 112
        },
        {
          "output_type": "stream",
          "name": "stdout",
          "text": [
            "time: 36.4 ms (started: 2023-02-24 13:41:30 +00:00)\n"
          ]
        }
      ],
      "source": [
        "employees.sample(5)"
      ]
    },
    {
      "cell_type": "code",
      "execution_count": 113,
      "metadata": {
        "colab": {
          "base_uri": "https://localhost:8080/"
        },
        "id": "uIfG6z5zQ3FS",
        "outputId": "602be34b-0fc8-4e23-8640-f98a8e87feaa"
      },
      "outputs": [
        {
          "output_type": "stream",
          "name": "stdout",
          "text": [
            "77.2 ms ± 22.1 ms per loop (mean ± std. dev. of 7 runs, 10 loops each)\n",
            "time: 6.13 s (started: 2023-02-24 13:42:22 +00:00)\n"
          ]
        }
      ],
      "source": [
        "%%timeit\n",
        "employees[employees[\"Company Name\"] == \"Amazon\"]"
      ]
    },
    {
      "cell_type": "code",
      "execution_count": 114,
      "metadata": {
        "id": "ZjIQl21fQ9XU",
        "colab": {
          "base_uri": "https://localhost:8080/"
        },
        "outputId": "a610897d-0003-4417-d225-672ecda99b5b"
      },
      "outputs": [
        {
          "output_type": "stream",
          "name": "stdout",
          "text": [
            "time: 881 µs (started: 2023-02-24 13:42:42 +00:00)\n"
          ]
        }
      ],
      "source": [
        "data_grp = employees.groupby(\"Company Name\")"
      ]
    },
    {
      "cell_type": "code",
      "execution_count": 115,
      "metadata": {
        "colab": {
          "base_uri": "https://localhost:8080/"
        },
        "id": "C35_Z8a4RF8Z",
        "outputId": "bbe7a747-ce3d-46e4-9f3d-8259c8e1bb1e"
      },
      "outputs": [
        {
          "output_type": "stream",
          "name": "stdout",
          "text": [
            "7.78 ms ± 1.05 ms per loop (mean ± std. dev. of 7 runs, 100 loops each)\n",
            "time: 6.3 s (started: 2023-02-24 13:43:00 +00:00)\n"
          ]
        }
      ],
      "source": [
        "%%timeit\n",
        "data_grp.get_group(\"Amazon\")"
      ]
    },
    {
      "cell_type": "markdown",
      "metadata": {
        "id": "KiUt4E8HOTXB"
      },
      "source": [
        "## Summary\n",
        "For filtering of your DataFrame on categorical data, prefer grouping the data first using the `groupby()` method. After that, fetch the desired groups using the `get_group()` method\n",
        "\n",
        "* Only applicable to filtering based on categorical data"
      ]
    },
    {
      "cell_type": "markdown",
      "metadata": {
        "id": "45GYVItq7veX"
      },
      "source": [
        "# Section 2 - Merge - Index Optimization\n",
        "## Merge vs join\n",
        "Both join and merge can be used to combines two dataframes but the join method combines two dataframes on the basis of their indexes whereas the merge method is more versatile and allows us to specify columns beside the index to join on for both dataframes."
      ]
    },
    {
      "cell_type": "code",
      "execution_count": 68,
      "metadata": {
        "colab": {
          "base_uri": "https://localhost:8080/"
        },
        "id": "crjuIXDB3HCM",
        "outputId": "7019f403-1259-461a-a2df-9887f244689a"
      },
      "outputs": [
        {
          "output_type": "stream",
          "name": "stdout",
          "text": [
            "time: 541 µs (started: 2023-02-24 13:03:15 +00:00)\n"
          ]
        }
      ],
      "source": [
        "# from faker import Faker\n",
        "# fake = Faker()\n",
        "#\n",
        "# def create_people(n=100):\n",
        "#   data = []\n",
        "#   for i in range(n):\n",
        "#     person_name = fake.name()\n",
        "#     address = fake.address()\n",
        "#     age = random.randint(18, 65)\n",
        "#     data.append([i, person_name, address, age])\n",
        "#\n",
        "#   data = pd.DataFrame(data, columns=[\n",
        "#         \"Id\", \"Full Name\", \"Address\", \"Age\"\n",
        "#         ]\n",
        "#   )\n",
        "#   return data\n",
        "# people = create_people(n=800000)\n",
        "# employees = create_employees(n=800000)"
      ]
    },
    {
      "cell_type": "code",
      "source": [
        "employees = pd.read_csv(\"employees.csv\")\n",
        "people = pd.read_csv(\"people.csv\")"
      ],
      "metadata": {
        "colab": {
          "base_uri": "https://localhost:8080/"
        },
        "id": "D_gCqvbI0woa",
        "outputId": "32ad2bac-db18-4302-b8f2-d7d7b63b3a57"
      },
      "execution_count": 116,
      "outputs": [
        {
          "output_type": "stream",
          "name": "stdout",
          "text": [
            "time: 2.64 s (started: 2023-02-24 13:46:06 +00:00)\n"
          ]
        }
      ]
    },
    {
      "cell_type": "code",
      "execution_count": 117,
      "metadata": {
        "colab": {
          "base_uri": "https://localhost:8080/",
          "height": 224
        },
        "id": "BCercEXF4aCR",
        "outputId": "81f0c869-cb0a-4256-8fa7-699da53ae0f2"
      },
      "outputs": [
        {
          "output_type": "execute_result",
          "data": {
            "text/plain": [
              "            Id       Full Name                                     Address  \\\n",
              "403021  403021  Gina Murphy MD            PSC 6806, Box 2779\\nAPO AE 74469   \n",
              "93046    93046      Ruth Banks       11715 Adam Summit\\nFryeport, WI 11036   \n",
              "437897  437897   Becky Morales   164 Ryan Island\\nLake Jasonberg, VT 57530   \n",
              "747369  747369   Rhonda Vargas      109 Steven Glen\\nTurnermouth, NY 03130   \n",
              "729708  729708    Rachel Short  9594 Hughes Circles\\nPearsonstad, GU 15899   \n",
              "\n",
              "        Age  \n",
              "403021   49  \n",
              "93046    38  \n",
              "437897   53  \n",
              "747369   36  \n",
              "729708   45  "
            ],
            "text/html": [
              "\n",
              "  <div id=\"df-f52c226b-f5ad-4274-b936-66a3e757490e\">\n",
              "    <div class=\"colab-df-container\">\n",
              "      <div>\n",
              "<style scoped>\n",
              "    .dataframe tbody tr th:only-of-type {\n",
              "        vertical-align: middle;\n",
              "    }\n",
              "\n",
              "    .dataframe tbody tr th {\n",
              "        vertical-align: top;\n",
              "    }\n",
              "\n",
              "    .dataframe thead th {\n",
              "        text-align: right;\n",
              "    }\n",
              "</style>\n",
              "<table border=\"1\" class=\"dataframe\">\n",
              "  <thead>\n",
              "    <tr style=\"text-align: right;\">\n",
              "      <th></th>\n",
              "      <th>Id</th>\n",
              "      <th>Full Name</th>\n",
              "      <th>Address</th>\n",
              "      <th>Age</th>\n",
              "    </tr>\n",
              "  </thead>\n",
              "  <tbody>\n",
              "    <tr>\n",
              "      <th>403021</th>\n",
              "      <td>403021</td>\n",
              "      <td>Gina Murphy MD</td>\n",
              "      <td>PSC 6806, Box 2779\\nAPO AE 74469</td>\n",
              "      <td>49</td>\n",
              "    </tr>\n",
              "    <tr>\n",
              "      <th>93046</th>\n",
              "      <td>93046</td>\n",
              "      <td>Ruth Banks</td>\n",
              "      <td>11715 Adam Summit\\nFryeport, WI 11036</td>\n",
              "      <td>38</td>\n",
              "    </tr>\n",
              "    <tr>\n",
              "      <th>437897</th>\n",
              "      <td>437897</td>\n",
              "      <td>Becky Morales</td>\n",
              "      <td>164 Ryan Island\\nLake Jasonberg, VT 57530</td>\n",
              "      <td>53</td>\n",
              "    </tr>\n",
              "    <tr>\n",
              "      <th>747369</th>\n",
              "      <td>747369</td>\n",
              "      <td>Rhonda Vargas</td>\n",
              "      <td>109 Steven Glen\\nTurnermouth, NY 03130</td>\n",
              "      <td>36</td>\n",
              "    </tr>\n",
              "    <tr>\n",
              "      <th>729708</th>\n",
              "      <td>729708</td>\n",
              "      <td>Rachel Short</td>\n",
              "      <td>9594 Hughes Circles\\nPearsonstad, GU 15899</td>\n",
              "      <td>45</td>\n",
              "    </tr>\n",
              "  </tbody>\n",
              "</table>\n",
              "</div>\n",
              "      <button class=\"colab-df-convert\" onclick=\"convertToInteractive('df-f52c226b-f5ad-4274-b936-66a3e757490e')\"\n",
              "              title=\"Convert this dataframe to an interactive table.\"\n",
              "              style=\"display:none;\">\n",
              "        \n",
              "  <svg xmlns=\"http://www.w3.org/2000/svg\" height=\"24px\"viewBox=\"0 0 24 24\"\n",
              "       width=\"24px\">\n",
              "    <path d=\"M0 0h24v24H0V0z\" fill=\"none\"/>\n",
              "    <path d=\"M18.56 5.44l.94 2.06.94-2.06 2.06-.94-2.06-.94-.94-2.06-.94 2.06-2.06.94zm-11 1L8.5 8.5l.94-2.06 2.06-.94-2.06-.94L8.5 2.5l-.94 2.06-2.06.94zm10 10l.94 2.06.94-2.06 2.06-.94-2.06-.94-.94-2.06-.94 2.06-2.06.94z\"/><path d=\"M17.41 7.96l-1.37-1.37c-.4-.4-.92-.59-1.43-.59-.52 0-1.04.2-1.43.59L10.3 9.45l-7.72 7.72c-.78.78-.78 2.05 0 2.83L4 21.41c.39.39.9.59 1.41.59.51 0 1.02-.2 1.41-.59l7.78-7.78 2.81-2.81c.8-.78.8-2.07 0-2.86zM5.41 20L4 18.59l7.72-7.72 1.47 1.35L5.41 20z\"/>\n",
              "  </svg>\n",
              "      </button>\n",
              "      \n",
              "  <style>\n",
              "    .colab-df-container {\n",
              "      display:flex;\n",
              "      flex-wrap:wrap;\n",
              "      gap: 12px;\n",
              "    }\n",
              "\n",
              "    .colab-df-convert {\n",
              "      background-color: #E8F0FE;\n",
              "      border: none;\n",
              "      border-radius: 50%;\n",
              "      cursor: pointer;\n",
              "      display: none;\n",
              "      fill: #1967D2;\n",
              "      height: 32px;\n",
              "      padding: 0 0 0 0;\n",
              "      width: 32px;\n",
              "    }\n",
              "\n",
              "    .colab-df-convert:hover {\n",
              "      background-color: #E2EBFA;\n",
              "      box-shadow: 0px 1px 2px rgba(60, 64, 67, 0.3), 0px 1px 3px 1px rgba(60, 64, 67, 0.15);\n",
              "      fill: #174EA6;\n",
              "    }\n",
              "\n",
              "    [theme=dark] .colab-df-convert {\n",
              "      background-color: #3B4455;\n",
              "      fill: #D2E3FC;\n",
              "    }\n",
              "\n",
              "    [theme=dark] .colab-df-convert:hover {\n",
              "      background-color: #434B5C;\n",
              "      box-shadow: 0px 1px 3px 1px rgba(0, 0, 0, 0.15);\n",
              "      filter: drop-shadow(0px 1px 2px rgba(0, 0, 0, 0.3));\n",
              "      fill: #FFFFFF;\n",
              "    }\n",
              "  </style>\n",
              "\n",
              "      <script>\n",
              "        const buttonEl =\n",
              "          document.querySelector('#df-f52c226b-f5ad-4274-b936-66a3e757490e button.colab-df-convert');\n",
              "        buttonEl.style.display =\n",
              "          google.colab.kernel.accessAllowed ? 'block' : 'none';\n",
              "\n",
              "        async function convertToInteractive(key) {\n",
              "          const element = document.querySelector('#df-f52c226b-f5ad-4274-b936-66a3e757490e');\n",
              "          const dataTable =\n",
              "            await google.colab.kernel.invokeFunction('convertToInteractive',\n",
              "                                                     [key], {});\n",
              "          if (!dataTable) return;\n",
              "\n",
              "          const docLinkHtml = 'Like what you see? Visit the ' +\n",
              "            '<a target=\"_blank\" href=https://colab.research.google.com/notebooks/data_table.ipynb>data table notebook</a>'\n",
              "            + ' to learn more about interactive tables.';\n",
              "          element.innerHTML = '';\n",
              "          dataTable['output_type'] = 'display_data';\n",
              "          await google.colab.output.renderOutput(dataTable, element);\n",
              "          const docLink = document.createElement('div');\n",
              "          docLink.innerHTML = docLinkHtml;\n",
              "          element.appendChild(docLink);\n",
              "        }\n",
              "      </script>\n",
              "    </div>\n",
              "  </div>\n",
              "  "
            ]
          },
          "metadata": {},
          "execution_count": 117
        },
        {
          "output_type": "stream",
          "name": "stdout",
          "text": [
            "time: 34.7 ms (started: 2023-02-24 13:46:11 +00:00)\n"
          ]
        }
      ],
      "source": [
        "people.sample(5)"
      ]
    },
    {
      "cell_type": "code",
      "execution_count": 118,
      "metadata": {
        "colab": {
          "base_uri": "https://localhost:8080/"
        },
        "id": "Nq3PrUVB6LG2",
        "outputId": "0381cd24-dd0a-4d6d-9fae-73eec2a48748"
      },
      "outputs": [
        {
          "output_type": "stream",
          "name": "stdout",
          "text": [
            "294 ms ± 5.64 ms per loop (mean ± std. dev. of 7 runs, 1 loop each)\n",
            "time: 2.5 s (started: 2023-02-24 13:46:45 +00:00)\n"
          ]
        }
      ],
      "source": [
        "%%timeit\n",
        "merged = pd.merge(employees, people, on=\"Id\")"
      ]
    },
    {
      "cell_type": "code",
      "execution_count": 119,
      "metadata": {
        "colab": {
          "base_uri": "https://localhost:8080/"
        },
        "id": "2cyedenA6UsF",
        "outputId": "17639428-c06d-4aa1-ef46-12789e706947"
      },
      "outputs": [
        {
          "output_type": "stream",
          "name": "stdout",
          "text": [
            "time: 38.3 ms (started: 2023-02-24 13:46:59 +00:00)\n"
          ]
        }
      ],
      "source": [
        "employees_df2 = employees.set_index(\"Id\")\n",
        "people_df2 = people.set_index(\"Id\")"
      ]
    },
    {
      "cell_type": "code",
      "execution_count": 120,
      "metadata": {
        "colab": {
          "base_uri": "https://localhost:8080/"
        },
        "id": "elWc6RiR6bTT",
        "outputId": "3c5fd988-1151-40e6-b1c0-53fef4118096"
      },
      "outputs": [
        {
          "output_type": "stream",
          "name": "stdout",
          "text": [
            "236 ms ± 36.9 ms per loop (mean ± std. dev. of 7 runs, 1 loop each)\n",
            "time: 2.04 s (started: 2023-02-24 13:47:17 +00:00)\n"
          ]
        }
      ],
      "source": [
        "%%timeit\n",
        "merged_v2 = pd.merge(employees_df2, people_df2, on=\"Id\")"
      ]
    },
    {
      "cell_type": "code",
      "execution_count": 121,
      "metadata": {
        "colab": {
          "base_uri": "https://localhost:8080/"
        },
        "id": "qlURmDes6tDN",
        "outputId": "f16fc703-a05d-4e86-d165-6bb2cbf956cb"
      },
      "outputs": [
        {
          "output_type": "stream",
          "name": "stdout",
          "text": [
            "166 ms ± 22.4 ms per loop (mean ± std. dev. of 7 runs, 10 loops each)\n",
            "time: 13.4 s (started: 2023-02-24 13:47:51 +00:00)\n"
          ]
        }
      ],
      "source": [
        "%%timeit\n",
        "merged_v3 = employees_df2.join(people_df2, on=\"Id\")"
      ]
    },
    {
      "cell_type": "markdown",
      "metadata": {
        "id": "sG0vM9zPOPLc"
      },
      "source": [
        "## Summary\n",
        "For DataFrame joins, always change the index of both the DataFrames and set it to the column(s) you want to execute the join condition on."
      ]
    },
    {
      "cell_type": "markdown",
      "metadata": {
        "id": "ixTCNhSdScoO"
      },
      "source": [
        "# Section 3 - Filter before Join"
      ]
    },
    {
      "cell_type": "code",
      "execution_count": 122,
      "metadata": {
        "colab": {
          "base_uri": "https://localhost:8080/"
        },
        "id": "rPH_qtIPShiA",
        "outputId": "b478665b-54f3-4816-965b-9025e4a13854"
      },
      "outputs": [
        {
          "output_type": "stream",
          "name": "stdout",
          "text": [
            "time: 2.3 s (started: 2023-02-24 13:49:10 +00:00)\n"
          ]
        }
      ],
      "source": [
        "employees = pd.read_csv(\"employees.csv\")\n",
        "people = pd.read_csv(\"people.csv\")"
      ]
    },
    {
      "cell_type": "code",
      "source": [
        "employees.sample(5)"
      ],
      "metadata": {
        "colab": {
          "base_uri": "https://localhost:8080/",
          "height": 224
        },
        "id": "8GXQzSEmF214",
        "outputId": "f559fc77-82cf-429e-88c2-127c42ce260c"
      },
      "execution_count": 76,
      "outputs": [
        {
          "output_type": "execute_result",
          "data": {
            "text/plain": [
              "            Id Company Name                Employee Job Title  \\\n",
              "290424  290424          IBM                     IOS Developer   \n",
              "458263  458263       Amazon                 Android Developer   \n",
              "737310  737310          IBM  Software Development Engineer-II   \n",
              "643026  643026   Mastercard                 Research Engineer   \n",
              "214728  214728    Microsoft                     IOS Developer   \n",
              "\n",
              "       Employee Work Location  Employee Salary Employment Status  \\\n",
              "290424               New York           695000         Full Time   \n",
              "458263             Manchester           861000         Full Time   \n",
              "737310                 Sydeny           649000         Full Time   \n",
              "643026                 Munich           875000         Full Time   \n",
              "214728                 Moscow           972000         Full Time   \n",
              "\n",
              "        Employee Rating  \n",
              "290424              0.5  \n",
              "458263              2.3  \n",
              "737310              3.8  \n",
              "643026              4.9  \n",
              "214728              4.2  "
            ],
            "text/html": [
              "\n",
              "  <div id=\"df-f27f070a-b74f-4cb8-bdb2-97c83c3814a6\">\n",
              "    <div class=\"colab-df-container\">\n",
              "      <div>\n",
              "<style scoped>\n",
              "    .dataframe tbody tr th:only-of-type {\n",
              "        vertical-align: middle;\n",
              "    }\n",
              "\n",
              "    .dataframe tbody tr th {\n",
              "        vertical-align: top;\n",
              "    }\n",
              "\n",
              "    .dataframe thead th {\n",
              "        text-align: right;\n",
              "    }\n",
              "</style>\n",
              "<table border=\"1\" class=\"dataframe\">\n",
              "  <thead>\n",
              "    <tr style=\"text-align: right;\">\n",
              "      <th></th>\n",
              "      <th>Id</th>\n",
              "      <th>Company Name</th>\n",
              "      <th>Employee Job Title</th>\n",
              "      <th>Employee Work Location</th>\n",
              "      <th>Employee Salary</th>\n",
              "      <th>Employment Status</th>\n",
              "      <th>Employee Rating</th>\n",
              "    </tr>\n",
              "  </thead>\n",
              "  <tbody>\n",
              "    <tr>\n",
              "      <th>290424</th>\n",
              "      <td>290424</td>\n",
              "      <td>IBM</td>\n",
              "      <td>IOS Developer</td>\n",
              "      <td>New York</td>\n",
              "      <td>695000</td>\n",
              "      <td>Full Time</td>\n",
              "      <td>0.5</td>\n",
              "    </tr>\n",
              "    <tr>\n",
              "      <th>458263</th>\n",
              "      <td>458263</td>\n",
              "      <td>Amazon</td>\n",
              "      <td>Android Developer</td>\n",
              "      <td>Manchester</td>\n",
              "      <td>861000</td>\n",
              "      <td>Full Time</td>\n",
              "      <td>2.3</td>\n",
              "    </tr>\n",
              "    <tr>\n",
              "      <th>737310</th>\n",
              "      <td>737310</td>\n",
              "      <td>IBM</td>\n",
              "      <td>Software Development Engineer-II</td>\n",
              "      <td>Sydeny</td>\n",
              "      <td>649000</td>\n",
              "      <td>Full Time</td>\n",
              "      <td>3.8</td>\n",
              "    </tr>\n",
              "    <tr>\n",
              "      <th>643026</th>\n",
              "      <td>643026</td>\n",
              "      <td>Mastercard</td>\n",
              "      <td>Research Engineer</td>\n",
              "      <td>Munich</td>\n",
              "      <td>875000</td>\n",
              "      <td>Full Time</td>\n",
              "      <td>4.9</td>\n",
              "    </tr>\n",
              "    <tr>\n",
              "      <th>214728</th>\n",
              "      <td>214728</td>\n",
              "      <td>Microsoft</td>\n",
              "      <td>IOS Developer</td>\n",
              "      <td>Moscow</td>\n",
              "      <td>972000</td>\n",
              "      <td>Full Time</td>\n",
              "      <td>4.2</td>\n",
              "    </tr>\n",
              "  </tbody>\n",
              "</table>\n",
              "</div>\n",
              "      <button class=\"colab-df-convert\" onclick=\"convertToInteractive('df-f27f070a-b74f-4cb8-bdb2-97c83c3814a6')\"\n",
              "              title=\"Convert this dataframe to an interactive table.\"\n",
              "              style=\"display:none;\">\n",
              "        \n",
              "  <svg xmlns=\"http://www.w3.org/2000/svg\" height=\"24px\"viewBox=\"0 0 24 24\"\n",
              "       width=\"24px\">\n",
              "    <path d=\"M0 0h24v24H0V0z\" fill=\"none\"/>\n",
              "    <path d=\"M18.56 5.44l.94 2.06.94-2.06 2.06-.94-2.06-.94-.94-2.06-.94 2.06-2.06.94zm-11 1L8.5 8.5l.94-2.06 2.06-.94-2.06-.94L8.5 2.5l-.94 2.06-2.06.94zm10 10l.94 2.06.94-2.06 2.06-.94-2.06-.94-.94-2.06-.94 2.06-2.06.94z\"/><path d=\"M17.41 7.96l-1.37-1.37c-.4-.4-.92-.59-1.43-.59-.52 0-1.04.2-1.43.59L10.3 9.45l-7.72 7.72c-.78.78-.78 2.05 0 2.83L4 21.41c.39.39.9.59 1.41.59.51 0 1.02-.2 1.41-.59l7.78-7.78 2.81-2.81c.8-.78.8-2.07 0-2.86zM5.41 20L4 18.59l7.72-7.72 1.47 1.35L5.41 20z\"/>\n",
              "  </svg>\n",
              "      </button>\n",
              "      \n",
              "  <style>\n",
              "    .colab-df-container {\n",
              "      display:flex;\n",
              "      flex-wrap:wrap;\n",
              "      gap: 12px;\n",
              "    }\n",
              "\n",
              "    .colab-df-convert {\n",
              "      background-color: #E8F0FE;\n",
              "      border: none;\n",
              "      border-radius: 50%;\n",
              "      cursor: pointer;\n",
              "      display: none;\n",
              "      fill: #1967D2;\n",
              "      height: 32px;\n",
              "      padding: 0 0 0 0;\n",
              "      width: 32px;\n",
              "    }\n",
              "\n",
              "    .colab-df-convert:hover {\n",
              "      background-color: #E2EBFA;\n",
              "      box-shadow: 0px 1px 2px rgba(60, 64, 67, 0.3), 0px 1px 3px 1px rgba(60, 64, 67, 0.15);\n",
              "      fill: #174EA6;\n",
              "    }\n",
              "\n",
              "    [theme=dark] .colab-df-convert {\n",
              "      background-color: #3B4455;\n",
              "      fill: #D2E3FC;\n",
              "    }\n",
              "\n",
              "    [theme=dark] .colab-df-convert:hover {\n",
              "      background-color: #434B5C;\n",
              "      box-shadow: 0px 1px 3px 1px rgba(0, 0, 0, 0.15);\n",
              "      filter: drop-shadow(0px 1px 2px rgba(0, 0, 0, 0.3));\n",
              "      fill: #FFFFFF;\n",
              "    }\n",
              "  </style>\n",
              "\n",
              "      <script>\n",
              "        const buttonEl =\n",
              "          document.querySelector('#df-f27f070a-b74f-4cb8-bdb2-97c83c3814a6 button.colab-df-convert');\n",
              "        buttonEl.style.display =\n",
              "          google.colab.kernel.accessAllowed ? 'block' : 'none';\n",
              "\n",
              "        async function convertToInteractive(key) {\n",
              "          const element = document.querySelector('#df-f27f070a-b74f-4cb8-bdb2-97c83c3814a6');\n",
              "          const dataTable =\n",
              "            await google.colab.kernel.invokeFunction('convertToInteractive',\n",
              "                                                     [key], {});\n",
              "          if (!dataTable) return;\n",
              "\n",
              "          const docLinkHtml = 'Like what you see? Visit the ' +\n",
              "            '<a target=\"_blank\" href=https://colab.research.google.com/notebooks/data_table.ipynb>data table notebook</a>'\n",
              "            + ' to learn more about interactive tables.';\n",
              "          element.innerHTML = '';\n",
              "          dataTable['output_type'] = 'display_data';\n",
              "          await google.colab.output.renderOutput(dataTable, element);\n",
              "          const docLink = document.createElement('div');\n",
              "          docLink.innerHTML = docLinkHtml;\n",
              "          element.appendChild(docLink);\n",
              "        }\n",
              "      </script>\n",
              "    </div>\n",
              "  </div>\n",
              "  "
            ]
          },
          "metadata": {},
          "execution_count": 76
        },
        {
          "output_type": "stream",
          "name": "stdout",
          "text": [
            "time: 115 ms (started: 2023-02-24 13:03:31 +00:00)\n"
          ]
        }
      ]
    },
    {
      "cell_type": "code",
      "execution_count": 123,
      "metadata": {
        "colab": {
          "base_uri": "https://localhost:8080/"
        },
        "id": "prwwYX7TSwWs",
        "outputId": "01d24864-83e8-4a67-d800-aa3cf52fcc0a"
      },
      "outputs": [
        {
          "output_type": "stream",
          "name": "stdout",
          "text": [
            "519 ms ± 13.9 ms per loop (mean ± std. dev. of 7 runs, 1 loop each)\n",
            "time: 4.28 s (started: 2023-02-24 13:49:28 +00:00)\n"
          ]
        }
      ],
      "source": [
        "%%timeit\n",
        "result = people.merge(employees, on=\"Id\", how=\"inner\").query(\"Age > 35\")"
      ]
    },
    {
      "cell_type": "code",
      "execution_count": 124,
      "metadata": {
        "colab": {
          "base_uri": "https://localhost:8080/"
        },
        "id": "IQEkGEUCThCJ",
        "outputId": "ccfc3c0c-e99a-42ed-c2f8-a561915eefce"
      },
      "outputs": [
        {
          "output_type": "stream",
          "name": "stdout",
          "text": [
            "420 ms ± 198 ms per loop (mean ± std. dev. of 7 runs, 1 loop each)\n",
            "time: 3.37 s (started: 2023-02-24 13:49:46 +00:00)\n"
          ]
        }
      ],
      "source": [
        "%%timeit\n",
        "result_v2 = people.query(\"Age > 35\").merge(employees, on=\"Id\", how=\"inner\")"
      ]
    },
    {
      "cell_type": "markdown",
      "metadata": {
        "id": "EUV2fy6hSwA7"
      },
      "source": [
        "## Filter before join to reduce the execution time"
      ]
    },
    {
      "cell_type": "markdown",
      "metadata": {
        "id": "8WKVo-ChQWdp"
      },
      "source": [
        "# Section 4 - Memory Optimization - use `inplace` parameter"
      ]
    },
    {
      "cell_type": "code",
      "execution_count": 125,
      "metadata": {
        "colab": {
          "base_uri": "https://localhost:8080/"
        },
        "id": "yFikcN4yQfUV",
        "outputId": "366d13c7-769d-41d7-e849-61cae03217cf"
      },
      "outputs": [
        {
          "output_type": "stream",
          "name": "stdout",
          "text": [
            "time: 505 ms (started: 2023-02-24 13:50:54 +00:00)\n"
          ]
        }
      ],
      "source": [
        "# The “inplace” parameter allows us to modify a Pandas data frame in place, without creating a new one. By using this parameter,\n",
        "# we can reduce memory usage and improve performance\n",
        "# Modify the data frame in place\n",
        "employees = pd.read_csv(\"employees.csv\")"
      ]
    },
    {
      "cell_type": "code",
      "source": [
        "employees.columns"
      ],
      "metadata": {
        "colab": {
          "base_uri": "https://localhost:8080/"
        },
        "id": "it84RCqQRoqL",
        "outputId": "0f47f66c-492e-4bf7-d61e-6db238faa0d3"
      },
      "execution_count": 126,
      "outputs": [
        {
          "output_type": "execute_result",
          "data": {
            "text/plain": [
              "Index(['Id', 'Company Name', 'Employee Job Title', 'Employee Work Location',\n",
              "       'Employee Salary', 'Employment Status', 'Employee Rating'],\n",
              "      dtype='object')"
            ]
          },
          "metadata": {},
          "execution_count": 126
        },
        {
          "output_type": "stream",
          "name": "stdout",
          "text": [
            "time: 3.24 ms (started: 2023-02-24 13:51:14 +00:00)\n"
          ]
        }
      ]
    },
    {
      "cell_type": "code",
      "source": [
        "employees.drop(\"Employee Rating\", axis=1, inplace=True)"
      ],
      "metadata": {
        "colab": {
          "base_uri": "https://localhost:8080/"
        },
        "id": "b1LpUH0JRmZ2",
        "outputId": "20d65522-9f89-4a91-d7e4-e0dd2390682d"
      },
      "execution_count": 127,
      "outputs": [
        {
          "output_type": "stream",
          "name": "stdout",
          "text": [
            "time: 33 ms (started: 2023-02-24 13:51:25 +00:00)\n"
          ]
        }
      ]
    },
    {
      "cell_type": "code",
      "execution_count": 128,
      "metadata": {
        "colab": {
          "base_uri": "https://localhost:8080/"
        },
        "id": "GKqc9ez5Quqm",
        "outputId": "3efc9025-f5da-4b38-f271-924a4ac7afa7"
      },
      "outputs": [
        {
          "output_type": "execute_result",
          "data": {
            "text/plain": [
              "Index(['Id', 'Company Name', 'Employee Job Title', 'Employee Work Location',\n",
              "       'Employee Salary', 'Employment Status'],\n",
              "      dtype='object')"
            ]
          },
          "metadata": {},
          "execution_count": 128
        },
        {
          "output_type": "stream",
          "name": "stdout",
          "text": [
            "time: 4.06 ms (started: 2023-02-24 13:51:32 +00:00)\n"
          ]
        }
      ],
      "source": [
        "employees.columns"
      ]
    },
    {
      "cell_type": "markdown",
      "metadata": {
        "id": "Diw0MfbBj171"
      },
      "source": [
        "# Section 5 - DataFrame Processing"
      ]
    },
    {
      "cell_type": "code",
      "execution_count": 129,
      "metadata": {
        "colab": {
          "base_uri": "https://localhost:8080/"
        },
        "id": "yj3LGtHadBrt",
        "outputId": "f29369bd-b907-430e-cbca-0ca9ed93f3e5"
      },
      "outputs": [
        {
          "output_type": "stream",
          "name": "stdout",
          "text": [
            "time: 69 ms (started: 2023-02-24 13:52:15 +00:00)\n"
          ]
        }
      ],
      "source": [
        "# https://www.kaggle.com/datasets/antonkozyriev/game-recommendations-on-steam\n",
        "games_df = pd.read_csv(\"games.csv\")"
      ]
    },
    {
      "cell_type": "code",
      "source": [
        "games_df.sample(5)"
      ],
      "metadata": {
        "colab": {
          "base_uri": "https://localhost:8080/",
          "height": 337
        },
        "id": "wdpQKTrb6JzK",
        "outputId": "84d101ab-8c0e-4498-d7c6-eecf518b9c2d"
      },
      "execution_count": 130,
      "outputs": [
        {
          "output_type": "execute_result",
          "data": {
            "text/plain": [
              "        app_id                                          title date_release  \\\n",
              "116     520720                  Dear Esther: Landmark Edition   2017-02-14   \n",
              "12924   953580                          Tourist Bus Simulator   2018-12-06   \n",
              "4868   1004960                DiRT Rally 2.0 - Opel Manta 400   2019-04-08   \n",
              "10437   545980                       Voodoo Vince: Remastered   2017-04-17   \n",
              "14413  1305130  The Lost Legends of Redwall™: The Scout Act 3   2021-12-24   \n",
              "\n",
              "        win    mac  linux           rating  positive_ratio  user_reviews  \\\n",
              "116    True   True  False  Mostly Positive              78          1591   \n",
              "12924  True  False  False            Mixed              65          1975   \n",
              "4868   True  False  False         Positive              84            13   \n",
              "10437  True  False  False    Very Positive              92           420   \n",
              "14413  True   True  False         Positive             100            10   \n",
              "\n",
              "       price_final  price_original  discount  steam_deck  \n",
              "116           9.99            9.99       0.0        True  \n",
              "12924        29.99           29.99       0.0        True  \n",
              "4868          1.99            1.99       0.0        True  \n",
              "10437        14.99           14.99       0.0        True  \n",
              "14413         9.99            9.99       0.0        True  "
            ],
            "text/html": [
              "\n",
              "  <div id=\"df-3ad80766-4ce1-40ea-8953-afe3caf5e019\">\n",
              "    <div class=\"colab-df-container\">\n",
              "      <div>\n",
              "<style scoped>\n",
              "    .dataframe tbody tr th:only-of-type {\n",
              "        vertical-align: middle;\n",
              "    }\n",
              "\n",
              "    .dataframe tbody tr th {\n",
              "        vertical-align: top;\n",
              "    }\n",
              "\n",
              "    .dataframe thead th {\n",
              "        text-align: right;\n",
              "    }\n",
              "</style>\n",
              "<table border=\"1\" class=\"dataframe\">\n",
              "  <thead>\n",
              "    <tr style=\"text-align: right;\">\n",
              "      <th></th>\n",
              "      <th>app_id</th>\n",
              "      <th>title</th>\n",
              "      <th>date_release</th>\n",
              "      <th>win</th>\n",
              "      <th>mac</th>\n",
              "      <th>linux</th>\n",
              "      <th>rating</th>\n",
              "      <th>positive_ratio</th>\n",
              "      <th>user_reviews</th>\n",
              "      <th>price_final</th>\n",
              "      <th>price_original</th>\n",
              "      <th>discount</th>\n",
              "      <th>steam_deck</th>\n",
              "    </tr>\n",
              "  </thead>\n",
              "  <tbody>\n",
              "    <tr>\n",
              "      <th>116</th>\n",
              "      <td>520720</td>\n",
              "      <td>Dear Esther: Landmark Edition</td>\n",
              "      <td>2017-02-14</td>\n",
              "      <td>True</td>\n",
              "      <td>True</td>\n",
              "      <td>False</td>\n",
              "      <td>Mostly Positive</td>\n",
              "      <td>78</td>\n",
              "      <td>1591</td>\n",
              "      <td>9.99</td>\n",
              "      <td>9.99</td>\n",
              "      <td>0.0</td>\n",
              "      <td>True</td>\n",
              "    </tr>\n",
              "    <tr>\n",
              "      <th>12924</th>\n",
              "      <td>953580</td>\n",
              "      <td>Tourist Bus Simulator</td>\n",
              "      <td>2018-12-06</td>\n",
              "      <td>True</td>\n",
              "      <td>False</td>\n",
              "      <td>False</td>\n",
              "      <td>Mixed</td>\n",
              "      <td>65</td>\n",
              "      <td>1975</td>\n",
              "      <td>29.99</td>\n",
              "      <td>29.99</td>\n",
              "      <td>0.0</td>\n",
              "      <td>True</td>\n",
              "    </tr>\n",
              "    <tr>\n",
              "      <th>4868</th>\n",
              "      <td>1004960</td>\n",
              "      <td>DiRT Rally 2.0 - Opel Manta 400</td>\n",
              "      <td>2019-04-08</td>\n",
              "      <td>True</td>\n",
              "      <td>False</td>\n",
              "      <td>False</td>\n",
              "      <td>Positive</td>\n",
              "      <td>84</td>\n",
              "      <td>13</td>\n",
              "      <td>1.99</td>\n",
              "      <td>1.99</td>\n",
              "      <td>0.0</td>\n",
              "      <td>True</td>\n",
              "    </tr>\n",
              "    <tr>\n",
              "      <th>10437</th>\n",
              "      <td>545980</td>\n",
              "      <td>Voodoo Vince: Remastered</td>\n",
              "      <td>2017-04-17</td>\n",
              "      <td>True</td>\n",
              "      <td>False</td>\n",
              "      <td>False</td>\n",
              "      <td>Very Positive</td>\n",
              "      <td>92</td>\n",
              "      <td>420</td>\n",
              "      <td>14.99</td>\n",
              "      <td>14.99</td>\n",
              "      <td>0.0</td>\n",
              "      <td>True</td>\n",
              "    </tr>\n",
              "    <tr>\n",
              "      <th>14413</th>\n",
              "      <td>1305130</td>\n",
              "      <td>The Lost Legends of Redwall™: The Scout Act 3</td>\n",
              "      <td>2021-12-24</td>\n",
              "      <td>True</td>\n",
              "      <td>True</td>\n",
              "      <td>False</td>\n",
              "      <td>Positive</td>\n",
              "      <td>100</td>\n",
              "      <td>10</td>\n",
              "      <td>9.99</td>\n",
              "      <td>9.99</td>\n",
              "      <td>0.0</td>\n",
              "      <td>True</td>\n",
              "    </tr>\n",
              "  </tbody>\n",
              "</table>\n",
              "</div>\n",
              "      <button class=\"colab-df-convert\" onclick=\"convertToInteractive('df-3ad80766-4ce1-40ea-8953-afe3caf5e019')\"\n",
              "              title=\"Convert this dataframe to an interactive table.\"\n",
              "              style=\"display:none;\">\n",
              "        \n",
              "  <svg xmlns=\"http://www.w3.org/2000/svg\" height=\"24px\"viewBox=\"0 0 24 24\"\n",
              "       width=\"24px\">\n",
              "    <path d=\"M0 0h24v24H0V0z\" fill=\"none\"/>\n",
              "    <path d=\"M18.56 5.44l.94 2.06.94-2.06 2.06-.94-2.06-.94-.94-2.06-.94 2.06-2.06.94zm-11 1L8.5 8.5l.94-2.06 2.06-.94-2.06-.94L8.5 2.5l-.94 2.06-2.06.94zm10 10l.94 2.06.94-2.06 2.06-.94-2.06-.94-.94-2.06-.94 2.06-2.06.94z\"/><path d=\"M17.41 7.96l-1.37-1.37c-.4-.4-.92-.59-1.43-.59-.52 0-1.04.2-1.43.59L10.3 9.45l-7.72 7.72c-.78.78-.78 2.05 0 2.83L4 21.41c.39.39.9.59 1.41.59.51 0 1.02-.2 1.41-.59l7.78-7.78 2.81-2.81c.8-.78.8-2.07 0-2.86zM5.41 20L4 18.59l7.72-7.72 1.47 1.35L5.41 20z\"/>\n",
              "  </svg>\n",
              "      </button>\n",
              "      \n",
              "  <style>\n",
              "    .colab-df-container {\n",
              "      display:flex;\n",
              "      flex-wrap:wrap;\n",
              "      gap: 12px;\n",
              "    }\n",
              "\n",
              "    .colab-df-convert {\n",
              "      background-color: #E8F0FE;\n",
              "      border: none;\n",
              "      border-radius: 50%;\n",
              "      cursor: pointer;\n",
              "      display: none;\n",
              "      fill: #1967D2;\n",
              "      height: 32px;\n",
              "      padding: 0 0 0 0;\n",
              "      width: 32px;\n",
              "    }\n",
              "\n",
              "    .colab-df-convert:hover {\n",
              "      background-color: #E2EBFA;\n",
              "      box-shadow: 0px 1px 2px rgba(60, 64, 67, 0.3), 0px 1px 3px 1px rgba(60, 64, 67, 0.15);\n",
              "      fill: #174EA6;\n",
              "    }\n",
              "\n",
              "    [theme=dark] .colab-df-convert {\n",
              "      background-color: #3B4455;\n",
              "      fill: #D2E3FC;\n",
              "    }\n",
              "\n",
              "    [theme=dark] .colab-df-convert:hover {\n",
              "      background-color: #434B5C;\n",
              "      box-shadow: 0px 1px 3px 1px rgba(0, 0, 0, 0.15);\n",
              "      filter: drop-shadow(0px 1px 2px rgba(0, 0, 0, 0.3));\n",
              "      fill: #FFFFFF;\n",
              "    }\n",
              "  </style>\n",
              "\n",
              "      <script>\n",
              "        const buttonEl =\n",
              "          document.querySelector('#df-3ad80766-4ce1-40ea-8953-afe3caf5e019 button.colab-df-convert');\n",
              "        buttonEl.style.display =\n",
              "          google.colab.kernel.accessAllowed ? 'block' : 'none';\n",
              "\n",
              "        async function convertToInteractive(key) {\n",
              "          const element = document.querySelector('#df-3ad80766-4ce1-40ea-8953-afe3caf5e019');\n",
              "          const dataTable =\n",
              "            await google.colab.kernel.invokeFunction('convertToInteractive',\n",
              "                                                     [key], {});\n",
              "          if (!dataTable) return;\n",
              "\n",
              "          const docLinkHtml = 'Like what you see? Visit the ' +\n",
              "            '<a target=\"_blank\" href=https://colab.research.google.com/notebooks/data_table.ipynb>data table notebook</a>'\n",
              "            + ' to learn more about interactive tables.';\n",
              "          element.innerHTML = '';\n",
              "          dataTable['output_type'] = 'display_data';\n",
              "          await google.colab.output.renderOutput(dataTable, element);\n",
              "          const docLink = document.createElement('div');\n",
              "          docLink.innerHTML = docLinkHtml;\n",
              "          element.appendChild(docLink);\n",
              "        }\n",
              "      </script>\n",
              "    </div>\n",
              "  </div>\n",
              "  "
            ]
          },
          "metadata": {},
          "execution_count": 130
        },
        {
          "output_type": "stream",
          "name": "stdout",
          "text": [
            "time: 24.9 ms (started: 2023-02-24 13:52:18 +00:00)\n"
          ]
        }
      ]
    },
    {
      "cell_type": "code",
      "execution_count": 131,
      "metadata": {
        "colab": {
          "base_uri": "https://localhost:8080/"
        },
        "id": "Vq0ONV-JWBX8",
        "outputId": "3d81064c-6176-4962-d28e-601a204cbc70"
      },
      "outputs": [
        {
          "output_type": "stream",
          "name": "stdout",
          "text": [
            "time: 2.71 s (started: 2023-02-24 13:52:50 +00:00)\n"
          ]
        }
      ],
      "source": [
        "games_df[\"date_release\"] = games_df[\"date_release\"].apply(pd.to_datetime)"
      ]
    },
    {
      "cell_type": "code",
      "execution_count": 132,
      "metadata": {
        "colab": {
          "base_uri": "https://localhost:8080/"
        },
        "id": "8ANVkKgckiZh",
        "outputId": "709672ce-8084-423d-a3a3-e243f9617605"
      },
      "outputs": [
        {
          "output_type": "execute_result",
          "data": {
            "text/plain": [
              "app_id                     int64\n",
              "title                     object\n",
              "date_release      datetime64[ns]\n",
              "win                         bool\n",
              "mac                         bool\n",
              "linux                       bool\n",
              "rating                    object\n",
              "positive_ratio             int64\n",
              "user_reviews               int64\n",
              "price_final              float64\n",
              "price_original           float64\n",
              "discount                 float64\n",
              "steam_deck                  bool\n",
              "dtype: object"
            ]
          },
          "metadata": {},
          "execution_count": 132
        },
        {
          "output_type": "stream",
          "name": "stdout",
          "text": [
            "time: 5.32 ms (started: 2023-02-24 13:52:57 +00:00)\n"
          ]
        }
      ],
      "source": [
        "games_df.dtypes"
      ]
    },
    {
      "cell_type": "markdown",
      "metadata": {
        "id": "ICmCfnhDaMAU"
      },
      "source": [
        "## Use iterrows 🐢\n",
        "#### This method returns the index as well as the row of a pandas dataframe"
      ]
    },
    {
      "cell_type": "code",
      "execution_count": 133,
      "metadata": {
        "colab": {
          "base_uri": "https://localhost:8080/"
        },
        "id": "HuT_SUpmYQpe",
        "outputId": "8b419b22-a24c-4a44-951b-9b3029873ee8"
      },
      "outputs": [
        {
          "output_type": "stream",
          "name": "stdout",
          "text": [
            "time: 2.43 ms (started: 2023-02-24 13:53:23 +00:00)\n"
          ]
        }
      ],
      "source": [
        "# Copy the DataFrame to keep the original DataFrame unchanged\n",
        "temp_df = games_df.copy()\n",
        "# List to store the computing results.  \n",
        "new_col = []"
      ]
    },
    {
      "cell_type": "code",
      "execution_count": 134,
      "metadata": {
        "colab": {
          "base_uri": "https://localhost:8080/"
        },
        "id": "4uDlwePTlHxe",
        "outputId": "8359426d-fcd0-4857-d3db-c747510deeeb"
      },
      "outputs": [
        {
          "output_type": "stream",
          "name": "stdout",
          "text": [
            "time: 1.97 s (started: 2023-02-24 13:53:50 +00:00)\n"
          ]
        }
      ],
      "source": [
        "# iterrows\n",
        "current = np.datetime64(\"today\")\n",
        "for i, row in temp_df.iterrows():\n",
        "    new_col.append(current - row[\"date_release\"])\n",
        "temp_df[\"date_release_iterrows\"] = pd.Series(new_col)"
      ]
    },
    {
      "cell_type": "code",
      "source": [
        "temp_df.sample(5)"
      ],
      "metadata": {
        "colab": {
          "base_uri": "https://localhost:8080/",
          "height": 496
        },
        "id": "Q41Mkr1561Oz",
        "outputId": "a22646dd-c863-4602-a33a-dbf902c81ced"
      },
      "execution_count": 135,
      "outputs": [
        {
          "output_type": "execute_result",
          "data": {
            "text/plain": [
              "        app_id                                         title date_release  \\\n",
              "17980   201290              Sins of a Solar Empire: Trinity®   2011-11-16   \n",
              "17606  1051950                                        Voyage   2021-02-18   \n",
              "12601  1443048  Forza Horizon 4: 2019 Chevrolet Corvette ZR1   2021-03-09   \n",
              "6910   1956370                              WTF Do You Know?   2022-05-02   \n",
              "16852   446380                                Sophie's Curse   2016-03-16   \n",
              "\n",
              "        win    mac  linux           rating  positive_ratio  user_reviews  \\\n",
              "17980  True  False  False  Mostly Positive              78           625   \n",
              "17606  True  False  False    Very Positive              85            88   \n",
              "12601  True  False  False  Mostly Positive              75            12   \n",
              "6910   True  False  False    Very Positive              97           108   \n",
              "16852  True  False  False    Very Positive              85           348   \n",
              "\n",
              "       price_final  price_original  discount  steam_deck date_release_iterrows  \n",
              "17980        19.99           19.99       0.0        True             4118 days  \n",
              "17606        14.99           14.99       0.0        True              736 days  \n",
              "12601         2.99            2.99       0.0        True              717 days  \n",
              "6910          1.99            1.99       0.0        True              298 days  \n",
              "16852         4.99            4.99       0.0        True             2536 days  "
            ],
            "text/html": [
              "\n",
              "  <div id=\"df-6e9690c1-33e8-41ae-af71-570960410bc1\">\n",
              "    <div class=\"colab-df-container\">\n",
              "      <div>\n",
              "<style scoped>\n",
              "    .dataframe tbody tr th:only-of-type {\n",
              "        vertical-align: middle;\n",
              "    }\n",
              "\n",
              "    .dataframe tbody tr th {\n",
              "        vertical-align: top;\n",
              "    }\n",
              "\n",
              "    .dataframe thead th {\n",
              "        text-align: right;\n",
              "    }\n",
              "</style>\n",
              "<table border=\"1\" class=\"dataframe\">\n",
              "  <thead>\n",
              "    <tr style=\"text-align: right;\">\n",
              "      <th></th>\n",
              "      <th>app_id</th>\n",
              "      <th>title</th>\n",
              "      <th>date_release</th>\n",
              "      <th>win</th>\n",
              "      <th>mac</th>\n",
              "      <th>linux</th>\n",
              "      <th>rating</th>\n",
              "      <th>positive_ratio</th>\n",
              "      <th>user_reviews</th>\n",
              "      <th>price_final</th>\n",
              "      <th>price_original</th>\n",
              "      <th>discount</th>\n",
              "      <th>steam_deck</th>\n",
              "      <th>date_release_iterrows</th>\n",
              "    </tr>\n",
              "  </thead>\n",
              "  <tbody>\n",
              "    <tr>\n",
              "      <th>17980</th>\n",
              "      <td>201290</td>\n",
              "      <td>Sins of a Solar Empire: Trinity®</td>\n",
              "      <td>2011-11-16</td>\n",
              "      <td>True</td>\n",
              "      <td>False</td>\n",
              "      <td>False</td>\n",
              "      <td>Mostly Positive</td>\n",
              "      <td>78</td>\n",
              "      <td>625</td>\n",
              "      <td>19.99</td>\n",
              "      <td>19.99</td>\n",
              "      <td>0.0</td>\n",
              "      <td>True</td>\n",
              "      <td>4118 days</td>\n",
              "    </tr>\n",
              "    <tr>\n",
              "      <th>17606</th>\n",
              "      <td>1051950</td>\n",
              "      <td>Voyage</td>\n",
              "      <td>2021-02-18</td>\n",
              "      <td>True</td>\n",
              "      <td>False</td>\n",
              "      <td>False</td>\n",
              "      <td>Very Positive</td>\n",
              "      <td>85</td>\n",
              "      <td>88</td>\n",
              "      <td>14.99</td>\n",
              "      <td>14.99</td>\n",
              "      <td>0.0</td>\n",
              "      <td>True</td>\n",
              "      <td>736 days</td>\n",
              "    </tr>\n",
              "    <tr>\n",
              "      <th>12601</th>\n",
              "      <td>1443048</td>\n",
              "      <td>Forza Horizon 4: 2019 Chevrolet Corvette ZR1</td>\n",
              "      <td>2021-03-09</td>\n",
              "      <td>True</td>\n",
              "      <td>False</td>\n",
              "      <td>False</td>\n",
              "      <td>Mostly Positive</td>\n",
              "      <td>75</td>\n",
              "      <td>12</td>\n",
              "      <td>2.99</td>\n",
              "      <td>2.99</td>\n",
              "      <td>0.0</td>\n",
              "      <td>True</td>\n",
              "      <td>717 days</td>\n",
              "    </tr>\n",
              "    <tr>\n",
              "      <th>6910</th>\n",
              "      <td>1956370</td>\n",
              "      <td>WTF Do You Know?</td>\n",
              "      <td>2022-05-02</td>\n",
              "      <td>True</td>\n",
              "      <td>False</td>\n",
              "      <td>False</td>\n",
              "      <td>Very Positive</td>\n",
              "      <td>97</td>\n",
              "      <td>108</td>\n",
              "      <td>1.99</td>\n",
              "      <td>1.99</td>\n",
              "      <td>0.0</td>\n",
              "      <td>True</td>\n",
              "      <td>298 days</td>\n",
              "    </tr>\n",
              "    <tr>\n",
              "      <th>16852</th>\n",
              "      <td>446380</td>\n",
              "      <td>Sophie's Curse</td>\n",
              "      <td>2016-03-16</td>\n",
              "      <td>True</td>\n",
              "      <td>False</td>\n",
              "      <td>False</td>\n",
              "      <td>Very Positive</td>\n",
              "      <td>85</td>\n",
              "      <td>348</td>\n",
              "      <td>4.99</td>\n",
              "      <td>4.99</td>\n",
              "      <td>0.0</td>\n",
              "      <td>True</td>\n",
              "      <td>2536 days</td>\n",
              "    </tr>\n",
              "  </tbody>\n",
              "</table>\n",
              "</div>\n",
              "      <button class=\"colab-df-convert\" onclick=\"convertToInteractive('df-6e9690c1-33e8-41ae-af71-570960410bc1')\"\n",
              "              title=\"Convert this dataframe to an interactive table.\"\n",
              "              style=\"display:none;\">\n",
              "        \n",
              "  <svg xmlns=\"http://www.w3.org/2000/svg\" height=\"24px\"viewBox=\"0 0 24 24\"\n",
              "       width=\"24px\">\n",
              "    <path d=\"M0 0h24v24H0V0z\" fill=\"none\"/>\n",
              "    <path d=\"M18.56 5.44l.94 2.06.94-2.06 2.06-.94-2.06-.94-.94-2.06-.94 2.06-2.06.94zm-11 1L8.5 8.5l.94-2.06 2.06-.94-2.06-.94L8.5 2.5l-.94 2.06-2.06.94zm10 10l.94 2.06.94-2.06 2.06-.94-2.06-.94-.94-2.06-.94 2.06-2.06.94z\"/><path d=\"M17.41 7.96l-1.37-1.37c-.4-.4-.92-.59-1.43-.59-.52 0-1.04.2-1.43.59L10.3 9.45l-7.72 7.72c-.78.78-.78 2.05 0 2.83L4 21.41c.39.39.9.59 1.41.59.51 0 1.02-.2 1.41-.59l7.78-7.78 2.81-2.81c.8-.78.8-2.07 0-2.86zM5.41 20L4 18.59l7.72-7.72 1.47 1.35L5.41 20z\"/>\n",
              "  </svg>\n",
              "      </button>\n",
              "      \n",
              "  <style>\n",
              "    .colab-df-container {\n",
              "      display:flex;\n",
              "      flex-wrap:wrap;\n",
              "      gap: 12px;\n",
              "    }\n",
              "\n",
              "    .colab-df-convert {\n",
              "      background-color: #E8F0FE;\n",
              "      border: none;\n",
              "      border-radius: 50%;\n",
              "      cursor: pointer;\n",
              "      display: none;\n",
              "      fill: #1967D2;\n",
              "      height: 32px;\n",
              "      padding: 0 0 0 0;\n",
              "      width: 32px;\n",
              "    }\n",
              "\n",
              "    .colab-df-convert:hover {\n",
              "      background-color: #E2EBFA;\n",
              "      box-shadow: 0px 1px 2px rgba(60, 64, 67, 0.3), 0px 1px 3px 1px rgba(60, 64, 67, 0.15);\n",
              "      fill: #174EA6;\n",
              "    }\n",
              "\n",
              "    [theme=dark] .colab-df-convert {\n",
              "      background-color: #3B4455;\n",
              "      fill: #D2E3FC;\n",
              "    }\n",
              "\n",
              "    [theme=dark] .colab-df-convert:hover {\n",
              "      background-color: #434B5C;\n",
              "      box-shadow: 0px 1px 3px 1px rgba(0, 0, 0, 0.15);\n",
              "      filter: drop-shadow(0px 1px 2px rgba(0, 0, 0, 0.3));\n",
              "      fill: #FFFFFF;\n",
              "    }\n",
              "  </style>\n",
              "\n",
              "      <script>\n",
              "        const buttonEl =\n",
              "          document.querySelector('#df-6e9690c1-33e8-41ae-af71-570960410bc1 button.colab-df-convert');\n",
              "        buttonEl.style.display =\n",
              "          google.colab.kernel.accessAllowed ? 'block' : 'none';\n",
              "\n",
              "        async function convertToInteractive(key) {\n",
              "          const element = document.querySelector('#df-6e9690c1-33e8-41ae-af71-570960410bc1');\n",
              "          const dataTable =\n",
              "            await google.colab.kernel.invokeFunction('convertToInteractive',\n",
              "                                                     [key], {});\n",
              "          if (!dataTable) return;\n",
              "\n",
              "          const docLinkHtml = 'Like what you see? Visit the ' +\n",
              "            '<a target=\"_blank\" href=https://colab.research.google.com/notebooks/data_table.ipynb>data table notebook</a>'\n",
              "            + ' to learn more about interactive tables.';\n",
              "          element.innerHTML = '';\n",
              "          dataTable['output_type'] = 'display_data';\n",
              "          await google.colab.output.renderOutput(dataTable, element);\n",
              "          const docLink = document.createElement('div');\n",
              "          docLink.innerHTML = docLinkHtml;\n",
              "          element.appendChild(docLink);\n",
              "        }\n",
              "      </script>\n",
              "    </div>\n",
              "  </div>\n",
              "  "
            ]
          },
          "metadata": {},
          "execution_count": 135
        },
        {
          "output_type": "stream",
          "name": "stdout",
          "text": [
            "time: 23.7 ms (started: 2023-02-24 13:54:12 +00:00)\n"
          ]
        }
      ]
    },
    {
      "cell_type": "markdown",
      "metadata": {
        "id": "PI35L4amaP1l"
      },
      "source": [
        "## Use itertuples\n",
        "#### This method is different from iterrows ithis method is faster as well as it also preserve the data type of a column"
      ]
    },
    {
      "cell_type": "code",
      "execution_count": 136,
      "metadata": {
        "colab": {
          "base_uri": "https://localhost:8080/"
        },
        "id": "YkRUWL_yYupO",
        "outputId": "d8c99a91-39d4-47f7-b742-45775d0fc03f"
      },
      "outputs": [
        {
          "output_type": "stream",
          "name": "stdout",
          "text": [
            "time: 2.63 ms (started: 2023-02-24 13:54:33 +00:00)\n"
          ]
        }
      ],
      "source": [
        "# Copy the DataFrame to keep the original DataFrame unchanged\n",
        "temp_df = games_df.copy()\n",
        "# List to store the computing results.  \n",
        "new_col = []"
      ]
    },
    {
      "cell_type": "code",
      "execution_count": 137,
      "metadata": {
        "colab": {
          "base_uri": "https://localhost:8080/"
        },
        "id": "f1PTh9E5llqF",
        "outputId": "c1f47b1b-3a14-4bef-a01e-4e7c9552cd99"
      },
      "outputs": [
        {
          "output_type": "stream",
          "name": "stdout",
          "text": [
            "time: 686 ms (started: 2023-02-24 13:54:40 +00:00)\n"
          ]
        }
      ],
      "source": [
        "# itertuples - This method is different from iterrows ithis method is faster\n",
        "# as well as it also preserve the data type of a column\n",
        "current = np.datetime64(\"today\")\n",
        "for row in temp_df.itertuples():\n",
        "  new_col.append(current - row.date_release)\n",
        "temp_df[\"date_release_itertuples\"] = pd.Series(new_col)"
      ]
    },
    {
      "cell_type": "code",
      "source": [
        "games_df.shape"
      ],
      "metadata": {
        "colab": {
          "base_uri": "https://localhost:8080/"
        },
        "id": "AzZlbwUBtNIl",
        "outputId": "c5b15dc8-ef89-4b4d-bd83-c696372377c9"
      },
      "execution_count": 138,
      "outputs": [
        {
          "output_type": "execute_result",
          "data": {
            "text/plain": [
              "(21236, 13)"
            ]
          },
          "metadata": {},
          "execution_count": 138
        },
        {
          "output_type": "stream",
          "name": "stdout",
          "text": [
            "time: 5.4 ms (started: 2023-02-24 13:55:20 +00:00)\n"
          ]
        }
      ]
    },
    {
      "cell_type": "markdown",
      "metadata": {
        "id": "O1RDnYlWaT2E"
      },
      "source": [
        "## Use pandas apply 🐎"
      ]
    },
    {
      "cell_type": "code",
      "execution_count": 139,
      "metadata": {
        "colab": {
          "base_uri": "https://localhost:8080/"
        },
        "id": "tMxzkdZNrdP8",
        "outputId": "147d28fb-4045-4f21-d678-f3f6730875f2"
      },
      "outputs": [
        {
          "output_type": "stream",
          "name": "stdout",
          "text": [
            "time: 1.02 ms (started: 2023-02-24 13:56:10 +00:00)\n"
          ]
        }
      ],
      "source": [
        "# use apply\n",
        "from datetime import datetime\n",
        "\n",
        "def days_diff(release_date):\n",
        "  current = np.datetime64(\"today\")\n",
        "  days_diff = current - release_date\n",
        "  return days_diff"
      ]
    },
    {
      "cell_type": "markdown",
      "metadata": {
        "id": "5rv6Z7LZahPb"
      },
      "source": [
        "### apply for column"
      ]
    },
    {
      "cell_type": "code",
      "execution_count": 140,
      "metadata": {
        "colab": {
          "base_uri": "https://localhost:8080/"
        },
        "id": "OPk8B9Gf1w4q",
        "outputId": "8d48ecd5-f748-4cde-8ad7-588b17d60fcc"
      },
      "outputs": [
        {
          "output_type": "stream",
          "name": "stdout",
          "text": [
            "487 ms ± 176 ms per loop (mean ± std. dev. of 7 runs, 1 loop each)\n",
            "time: 3.77 s (started: 2023-02-24 13:56:29 +00:00)\n"
          ]
        }
      ],
      "source": [
        "# apply column\n",
        "%%timeit\n",
        "games_df[\"days_diff_apply\"] = games_df[\"date_release\"].apply(days_diff)"
      ]
    },
    {
      "cell_type": "code",
      "execution_count": 141,
      "metadata": {
        "colab": {
          "base_uri": "https://localhost:8080/"
        },
        "id": "TzDYN9zt5aqH",
        "outputId": "b5ae9286-01b6-4b0f-f1f9-a80aa55ff4e5"
      },
      "outputs": [
        {
          "output_type": "stream",
          "name": "stdout",
          "text": [
            "time: 446 ms (started: 2023-02-24 13:56:52 +00:00)\n"
          ]
        }
      ],
      "source": [
        "%lprun -f days_diff games_df[\"date_release\"].apply(days_diff)"
      ]
    },
    {
      "cell_type": "markdown",
      "metadata": {
        "id": "hly0SiRVad9g"
      },
      "source": [
        "### apply for dataframe"
      ]
    },
    {
      "cell_type": "code",
      "execution_count": 95,
      "metadata": {
        "colab": {
          "base_uri": "https://localhost:8080/"
        },
        "id": "Vz9xQddA12jM",
        "outputId": "5f78f208-8b7f-4c5c-d2a7-aecfcbb0d4b9"
      },
      "outputs": [
        {
          "output_type": "stream",
          "name": "stdout",
          "text": [
            "1.24 s ± 356 ms per loop (mean ± std. dev. of 7 runs, 1 loop each)\n",
            "time: 9.55 s (started: 2023-02-24 13:03:58 +00:00)\n"
          ]
        }
      ],
      "source": [
        "# apply dataframe\n",
        "%%timeit\n",
        "games_df[\"days_diff_apply_df\"] = games_df.apply(lambda row: days_diff(row[\"date_release\"]), axis=1)"
      ]
    },
    {
      "cell_type": "code",
      "execution_count": 96,
      "metadata": {
        "colab": {
          "base_uri": "https://localhost:8080/"
        },
        "id": "2I_iAK0J5hwI",
        "outputId": "361c015e-0451-43e5-f0ae-d208831a49eb"
      },
      "outputs": [
        {
          "output_type": "stream",
          "name": "stdout",
          "text": [
            "time: 1.27 s (started: 2023-02-24 13:04:08 +00:00)\n"
          ]
        }
      ],
      "source": [
        "%lprun -f days_diff games_df.apply(lambda row: days_diff(row[\"date_release\"]), axis=1)"
      ]
    },
    {
      "cell_type": "markdown",
      "metadata": {
        "id": "ju085HgVaxAn"
      },
      "source": [
        "## Pandas Vectorize ⚡"
      ]
    },
    {
      "cell_type": "code",
      "execution_count": 97,
      "metadata": {
        "colab": {
          "base_uri": "https://localhost:8080/"
        },
        "id": "jNyFQ7YmmWqq",
        "outputId": "86cfbb50-e136-403e-ab1a-43ae6ad281ab"
      },
      "outputs": [
        {
          "output_type": "stream",
          "name": "stdout",
          "text": [
            "time: 445 µs (started: 2023-02-24 13:04:09 +00:00)\n"
          ]
        }
      ],
      "source": [
        "# vectorize -  the ability to run an operation across a whole Series or DataFrame\n",
        "# https://www.youtube.com/watch?v=nxWginnBklU\n",
        "# https://www.youtube.com/watch?v=HN5d490_KKk\n",
        "# https://github.com/s-heisler/pycon2017-optimizing-pandas\n",
        "# https://medium.com/analytics-vidhya/understanding-vectorization-in-numpy-and-pandas-188b6ebc5398"
      ]
    },
    {
      "cell_type": "code",
      "execution_count": 142,
      "metadata": {
        "colab": {
          "base_uri": "https://localhost:8080/"
        },
        "id": "d0rvjfv75xVX",
        "outputId": "aa96f91c-7121-438a-b44f-b987da6d83dc"
      },
      "outputs": [
        {
          "output_type": "stream",
          "name": "stdout",
          "text": [
            "628 µs ± 9.03 µs per loop (mean ± std. dev. of 7 runs, 1000 loops each)\n",
            "time: 5.12 s (started: 2023-02-24 13:59:52 +00:00)\n"
          ]
        }
      ],
      "source": [
        "%%timeit\n",
        "# pandas vectorization\n",
        "games_df[\"days_diff_vect\"] = days_diff(games_df[\"date_release\"])"
      ]
    },
    {
      "cell_type": "code",
      "execution_count": 143,
      "metadata": {
        "colab": {
          "base_uri": "https://localhost:8080/"
        },
        "id": "vvK-GvZP6w45",
        "outputId": "b0150016-1d31-4a51-bd7c-6f4a8e83f8b2"
      },
      "outputs": [
        {
          "output_type": "stream",
          "name": "stdout",
          "text": [
            "time: 4.96 ms (started: 2023-02-24 14:02:00 +00:00)\n"
          ]
        }
      ],
      "source": [
        "%lprun -f days_diff days_diff(games_df[\"date_release\"])"
      ]
    },
    {
      "cell_type": "markdown",
      "metadata": {
        "id": "IfA-rDvEa06B"
      },
      "source": [
        "## NumPy Vectorize ⚡⚡"
      ]
    },
    {
      "cell_type": "code",
      "execution_count": 144,
      "metadata": {
        "colab": {
          "base_uri": "https://localhost:8080/"
        },
        "id": "S6t7JJHjmhgd",
        "outputId": "e4b6d24e-593f-402d-8960-1ec3527c09aa"
      },
      "outputs": [
        {
          "output_type": "stream",
          "name": "stdout",
          "text": [
            "407 µs ± 66.2 µs per loop (mean ± std. dev. of 7 runs, 1000 loops each)\n",
            "time: 3.44 s (started: 2023-02-24 14:03:01 +00:00)\n"
          ]
        }
      ],
      "source": [
        "%%timeit\n",
        "# numpy vectorization\n",
        "games_df[\"days_diff_numpy\"] = days_diff(games_df[\"date_release\"].values)"
      ]
    },
    {
      "cell_type": "code",
      "execution_count": 145,
      "metadata": {
        "colab": {
          "base_uri": "https://localhost:8080/"
        },
        "id": "yhCRCXr3AtfS",
        "outputId": "d06b02bc-483a-4b85-928e-e0d673fda173"
      },
      "outputs": [
        {
          "output_type": "stream",
          "name": "stdout",
          "text": [
            "time: 2.44 ms (started: 2023-02-24 14:03:13 +00:00)\n"
          ]
        }
      ],
      "source": [
        "%lprun -f days_diff days_diff(games_df[\"date_release\"].values)"
      ]
    },
    {
      "cell_type": "markdown",
      "metadata": {
        "id": "Bhfn4s3ia9Nn"
      },
      "source": [
        "## Vectorize function\n",
        "### Not all fucntions are vectorizable, e.g. aggregations aren't"
      ]
    },
    {
      "cell_type": "code",
      "execution_count": 146,
      "metadata": {
        "colab": {
          "base_uri": "https://localhost:8080/"
        },
        "id": "0BcBpWfduTts",
        "outputId": "3e79c09a-4523-4147-db52-32324db75827"
      },
      "outputs": [
        {
          "output_type": "stream",
          "name": "stdout",
          "text": [
            "time: 579 µs (started: 2023-02-24 14:04:47 +00:00)\n"
          ]
        }
      ],
      "source": [
        "# .vectorize function\n",
        "vect_date_diff = np.vectorize(days_diff)"
      ]
    },
    {
      "cell_type": "code",
      "execution_count": 147,
      "metadata": {
        "colab": {
          "base_uri": "https://localhost:8080/"
        },
        "id": "CG34pqvvBT1-",
        "outputId": "19814148-a753-4584-ab4c-b57e92f53f35"
      },
      "outputs": [
        {
          "output_type": "stream",
          "name": "stdout",
          "text": [
            "298 ms ± 7.52 ms per loop (mean ± std. dev. of 7 runs, 1 loop each)\n",
            "time: 2.4 s (started: 2023-02-24 14:04:58 +00:00)\n"
          ]
        }
      ],
      "source": [
        "%%timeit\n",
        "games_df[\"days_diff_numpy_vect\"] = vect_date_diff(games_df[\"date_release\"])"
      ]
    },
    {
      "cell_type": "markdown",
      "metadata": {
        "id": "BigIwvSfBQsM"
      },
      "source": [
        "## Pandas Alternatives\n",
        "* modin (https://github.com/modin-project/modin)\n",
        "* polars (https://github.com/pola-rs/polars)\n",
        "* numba (https://pandas.pydata.org/docs/user_guide/enhancingperf.html#numba-jit-compilation)\n",
        "* dask (https://github.com/dask/dask)\n",
        "* Apache Spark (https://github.com/apache/spark)"
      ]
    },
    {
      "cell_type": "markdown",
      "metadata": {
        "id": "FJKKsqj-N2z6"
      },
      "source": [
        "## Summary\n",
        "* Avoid loops, if you can\n",
        "* If you must loop, use apply, not iteration functions\n",
        "* Vectorization is usually better than scalar operations\n",
        "* Vector operations on NumPy arrays are more efficient than on native Pandas series\n",
        "* Cython"
      ]
    }
  ],
  "metadata": {
    "colab": {
      "collapsed_sections": [
        "45GYVItq7veX",
        "ixTCNhSdScoO",
        "hly0SiRVad9g"
      ],
      "provenance": [],
      "toc_visible": true
    },
    "kernelspec": {
      "display_name": "Python 3",
      "name": "python3"
    },
    "language_info": {
      "name": "python"
    }
  },
  "nbformat": 4,
  "nbformat_minor": 0
}